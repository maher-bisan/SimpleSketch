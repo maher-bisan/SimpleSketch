{
 "cells": [
  {
   "cell_type": "code",
   "execution_count": 3,
   "metadata": {},
   "outputs": [
    {
     "name": "stdout",
     "output_type": "stream",
     "text": [
      "Processing /mnt/c/Users/maher/Documents/technion/SSAR-project/SimpleSketch\n",
      "  Installing build dependencies ... \u001b[?25ldone\n",
      "\u001b[?25h  Getting requirements to build wheel ... \u001b[?25ldone\n",
      "\u001b[?25h  Installing backend dependencies ... \u001b[?25ldone\n",
      "\u001b[?25h  Preparing metadata (pyproject.toml) ... \u001b[?25ldone\n",
      "\u001b[?25hRequirement already satisfied: e in /mnt/c/Users/maher/Documents/technion/SSAR-project/SimpleSketch/.venv/lib/python3.11/site-packages (1.4.5)\n",
      "Requirement already satisfied: z3-solver==4.12.2.0 in /mnt/c/Users/maher/Documents/technion/SSAR-project/SimpleSketch/.venv/lib/python3.11/site-packages (from simpleSketch==0.0.7) (4.12.2.0)\n",
      "Requirement already satisfied: lark==1.1.7 in /mnt/c/Users/maher/Documents/technion/SSAR-project/SimpleSketch/.venv/lib/python3.11/site-packages (from simpleSketch==0.0.7) (1.1.7)\n",
      "Requirement already satisfied: pyyaml in /mnt/c/Users/maher/Documents/technion/SSAR-project/SimpleSketch/.venv/lib/python3.11/site-packages (from simpleSketch==0.0.7) (6.0.1)\n",
      "Requirement already satisfied: customtkinter==5.2.0 in /mnt/c/Users/maher/Documents/technion/SSAR-project/SimpleSketch/.venv/lib/python3.11/site-packages (from simpleSketch==0.0.7) (5.2.0)\n",
      "Requirement already satisfied: graphviz==0.20.1 in /mnt/c/Users/maher/Documents/technion/SSAR-project/SimpleSketch/.venv/lib/python3.11/site-packages (from simpleSketch==0.0.7) (0.20.1)\n",
      "Requirement already satisfied: ipykernel==6.25.2 in /mnt/c/Users/maher/Documents/technion/SSAR-project/SimpleSketch/.venv/lib/python3.11/site-packages (from simpleSketch==0.0.7) (6.25.2)\n",
      "Requirement already satisfied: darkdetect in /mnt/c/Users/maher/Documents/technion/SSAR-project/SimpleSketch/.venv/lib/python3.11/site-packages (from customtkinter==5.2.0->simpleSketch==0.0.7) (0.8.0)\n",
      "Requirement already satisfied: comm>=0.1.1 in /mnt/c/Users/maher/Documents/technion/SSAR-project/SimpleSketch/.venv/lib/python3.11/site-packages (from ipykernel==6.25.2->simpleSketch==0.0.7) (0.1.4)\n",
      "Requirement already satisfied: debugpy>=1.6.5 in /mnt/c/Users/maher/Documents/technion/SSAR-project/SimpleSketch/.venv/lib/python3.11/site-packages (from ipykernel==6.25.2->simpleSketch==0.0.7) (1.8.0)\n",
      "Requirement already satisfied: ipython>=7.23.1 in /mnt/c/Users/maher/Documents/technion/SSAR-project/SimpleSketch/.venv/lib/python3.11/site-packages (from ipykernel==6.25.2->simpleSketch==0.0.7) (8.16.1)\n",
      "Requirement already satisfied: jupyter-client>=6.1.12 in /mnt/c/Users/maher/Documents/technion/SSAR-project/SimpleSketch/.venv/lib/python3.11/site-packages (from ipykernel==6.25.2->simpleSketch==0.0.7) (8.3.1)\n",
      "Requirement already satisfied: jupyter-core!=5.0.*,>=4.12 in /mnt/c/Users/maher/Documents/technion/SSAR-project/SimpleSketch/.venv/lib/python3.11/site-packages (from ipykernel==6.25.2->simpleSketch==0.0.7) (5.3.2)\n",
      "Requirement already satisfied: matplotlib-inline>=0.1 in /mnt/c/Users/maher/Documents/technion/SSAR-project/SimpleSketch/.venv/lib/python3.11/site-packages (from ipykernel==6.25.2->simpleSketch==0.0.7) (0.1.6)\n",
      "Requirement already satisfied: nest-asyncio in /mnt/c/Users/maher/Documents/technion/SSAR-project/SimpleSketch/.venv/lib/python3.11/site-packages (from ipykernel==6.25.2->simpleSketch==0.0.7) (1.5.8)\n",
      "Requirement already satisfied: packaging in /mnt/c/Users/maher/Documents/technion/SSAR-project/SimpleSketch/.venv/lib/python3.11/site-packages (from ipykernel==6.25.2->simpleSketch==0.0.7) (23.1)\n",
      "Requirement already satisfied: psutil in /mnt/c/Users/maher/Documents/technion/SSAR-project/SimpleSketch/.venv/lib/python3.11/site-packages (from ipykernel==6.25.2->simpleSketch==0.0.7) (5.9.5)\n",
      "Requirement already satisfied: pyzmq>=20 in /mnt/c/Users/maher/Documents/technion/SSAR-project/SimpleSketch/.venv/lib/python3.11/site-packages (from ipykernel==6.25.2->simpleSketch==0.0.7) (25.1.1)\n",
      "Requirement already satisfied: tornado>=6.1 in /mnt/c/Users/maher/Documents/technion/SSAR-project/SimpleSketch/.venv/lib/python3.11/site-packages (from ipykernel==6.25.2->simpleSketch==0.0.7) (6.3.3)\n",
      "Requirement already satisfied: traitlets>=5.4.0 in /mnt/c/Users/maher/Documents/technion/SSAR-project/SimpleSketch/.venv/lib/python3.11/site-packages (from ipykernel==6.25.2->simpleSketch==0.0.7) (5.10.1)\n",
      "Requirement already satisfied: backcall in /mnt/c/Users/maher/Documents/technion/SSAR-project/SimpleSketch/.venv/lib/python3.11/site-packages (from ipython>=7.23.1->ipykernel==6.25.2->simpleSketch==0.0.7) (0.2.0)\n",
      "Requirement already satisfied: decorator in /mnt/c/Users/maher/Documents/technion/SSAR-project/SimpleSketch/.venv/lib/python3.11/site-packages (from ipython>=7.23.1->ipykernel==6.25.2->simpleSketch==0.0.7) (5.1.1)\n",
      "Requirement already satisfied: jedi>=0.16 in /mnt/c/Users/maher/Documents/technion/SSAR-project/SimpleSketch/.venv/lib/python3.11/site-packages (from ipython>=7.23.1->ipykernel==6.25.2->simpleSketch==0.0.7) (0.19.1)\n",
      "Requirement already satisfied: pickleshare in /mnt/c/Users/maher/Documents/technion/SSAR-project/SimpleSketch/.venv/lib/python3.11/site-packages (from ipython>=7.23.1->ipykernel==6.25.2->simpleSketch==0.0.7) (0.7.5)\n",
      "Requirement already satisfied: prompt-toolkit!=3.0.37,<3.1.0,>=3.0.30 in /mnt/c/Users/maher/Documents/technion/SSAR-project/SimpleSketch/.venv/lib/python3.11/site-packages (from ipython>=7.23.1->ipykernel==6.25.2->simpleSketch==0.0.7) (3.0.39)\n",
      "Requirement already satisfied: pygments>=2.4.0 in /mnt/c/Users/maher/Documents/technion/SSAR-project/SimpleSketch/.venv/lib/python3.11/site-packages (from ipython>=7.23.1->ipykernel==6.25.2->simpleSketch==0.0.7) (2.16.1)\n",
      "Requirement already satisfied: stack-data in /mnt/c/Users/maher/Documents/technion/SSAR-project/SimpleSketch/.venv/lib/python3.11/site-packages (from ipython>=7.23.1->ipykernel==6.25.2->simpleSketch==0.0.7) (0.6.3)\n",
      "Requirement already satisfied: pexpect>4.3 in /mnt/c/Users/maher/Documents/technion/SSAR-project/SimpleSketch/.venv/lib/python3.11/site-packages (from ipython>=7.23.1->ipykernel==6.25.2->simpleSketch==0.0.7) (4.8.0)\n",
      "Requirement already satisfied: python-dateutil>=2.8.2 in /mnt/c/Users/maher/Documents/technion/SSAR-project/SimpleSketch/.venv/lib/python3.11/site-packages (from jupyter-client>=6.1.12->ipykernel==6.25.2->simpleSketch==0.0.7) (2.8.2)\n",
      "Requirement already satisfied: platformdirs>=2.5 in /mnt/c/Users/maher/Documents/technion/SSAR-project/SimpleSketch/.venv/lib/python3.11/site-packages (from jupyter-core!=5.0.*,>=4.12->ipykernel==6.25.2->simpleSketch==0.0.7) (3.10.0)\n",
      "Requirement already satisfied: parso<0.9.0,>=0.8.3 in /mnt/c/Users/maher/Documents/technion/SSAR-project/SimpleSketch/.venv/lib/python3.11/site-packages (from jedi>=0.16->ipython>=7.23.1->ipykernel==6.25.2->simpleSketch==0.0.7) (0.8.3)\n",
      "Requirement already satisfied: ptyprocess>=0.5 in /mnt/c/Users/maher/Documents/technion/SSAR-project/SimpleSketch/.venv/lib/python3.11/site-packages (from pexpect>4.3->ipython>=7.23.1->ipykernel==6.25.2->simpleSketch==0.0.7) (0.7.0)\n",
      "Requirement already satisfied: wcwidth in /mnt/c/Users/maher/Documents/technion/SSAR-project/SimpleSketch/.venv/lib/python3.11/site-packages (from prompt-toolkit!=3.0.37,<3.1.0,>=3.0.30->ipython>=7.23.1->ipykernel==6.25.2->simpleSketch==0.0.7) (0.2.8)\n",
      "Requirement already satisfied: six>=1.5 in /mnt/c/Users/maher/Documents/technion/SSAR-project/SimpleSketch/.venv/lib/python3.11/site-packages (from python-dateutil>=2.8.2->jupyter-client>=6.1.12->ipykernel==6.25.2->simpleSketch==0.0.7) (1.16.0)\n",
      "Requirement already satisfied: executing>=1.2.0 in /mnt/c/Users/maher/Documents/technion/SSAR-project/SimpleSketch/.venv/lib/python3.11/site-packages (from stack-data->ipython>=7.23.1->ipykernel==6.25.2->simpleSketch==0.0.7) (2.0.0)\n",
      "Requirement already satisfied: asttokens>=2.1.0 in /mnt/c/Users/maher/Documents/technion/SSAR-project/SimpleSketch/.venv/lib/python3.11/site-packages (from stack-data->ipython>=7.23.1->ipykernel==6.25.2->simpleSketch==0.0.7) (2.4.0)\n",
      "Requirement already satisfied: pure-eval in /mnt/c/Users/maher/Documents/technion/SSAR-project/SimpleSketch/.venv/lib/python3.11/site-packages (from stack-data->ipython>=7.23.1->ipykernel==6.25.2->simpleSketch==0.0.7) (0.2.2)\n",
      "Building wheels for collected packages: simpleSketch\n",
      "  Building wheel for simpleSketch (pyproject.toml) ... \u001b[?25ldone\n",
      "\u001b[?25h  Created wheel for simpleSketch: filename=simpleSketch-0.0.7-py3-none-any.whl size=72993 sha256=1a29c052600e34fbc3880310444671a9dd75059e1666cf4dc74158968e44977c\n",
      "  Stored in directory: /tmp/pip-ephem-wheel-cache-mpa1fn96/wheels/25/f7/6f/724f70a9c3cf1e7014af766d9a6c690765472447651c8ddf00\n",
      "Successfully built simpleSketch\n",
      "Installing collected packages: simpleSketch\n",
      "  Attempting uninstall: simpleSketch\n",
      "    Found existing installation: simpleSketch 0.0.7\n",
      "    Uninstalling simpleSketch-0.0.7:\n",
      "      Successfully uninstalled simpleSketch-0.0.7\n",
      "Successfully installed simpleSketch-0.0.7\n",
      "Note: you may need to restart the kernel to use updated packages.\n"
     ]
    }
   ],
   "source": [
    "%pip install -U e ..[dev-notebook]"
   ]
  },
  {
   "cell_type": "code",
   "execution_count": 1,
   "metadata": {},
   "outputs": [],
   "source": [
    "from simple_sketch import SimpleSketch"
   ]
  },
  {
   "cell_type": "markdown",
   "metadata": {},
   "source": [
    "## example 1"
   ]
  },
  {
   "cell_type": "code",
   "execution_count": 20,
   "metadata": {},
   "outputs": [
    {
     "name": "stdout",
     "output_type": "stream",
     "text": [
      "\u001b[34m >>> The program to verify with the C values \u001b[0m\n",
      "\u001b[0m\u001b[32m\n",
      "The C values are not valid, so get a new X values from the model counterexample to get a new C values\u001b[0m\n",
      "\u001b[0m\u001b[34mThe new X values are: [(a0_in, 2), (a_in, 0), (x_in, 0), (n_in, 5), (b_in, False), (i_in, 0), (A_in, K(Int, 0))]\u001b[0m\n",
      "\u001b[34m >>> The formula we need to solve to get new C values \u001b[0m\n",
      "\u001b[34m >>> The program to verify with the C values \u001b[0m\n",
      "\u001b[0m\u001b[31mStop after 1 iterations, because we didn't find new X values\u001b[0m\n",
      "\u001b[0m\u001b[33mThe C values are valid, And the program is valued\u001b[0m\n",
      "\u001b[0m\u001b[33mThe values of the holes are: [(c2, 18), (c1, 0), (c0, 3), (c3, True)]\u001b[0m\n",
      "\u001b[33m\n",
      ">>> Verifying the program ...\u001b[0m\n",
      "\n",
      "Hoare triple is valid.\n",
      "\u001b[32m\n",
      ">>> The program is correct!\u001b[0m\n",
      "\n",
      "\u001b[32mThe synthesized program is correct.\u001b[0m\n",
      "\u001b[94mThe Holes values are:\n",
      "\u001b[0m{c2: 18, c1: 0, c0: 3, c3: True}\n",
      "\u001b[94mThe final synthesized program:\n",
      "\u001b[0massume (n == 5) ; \n",
      "assume (a0 == 2) ; \n",
      "int a := a0 ; \n",
      "int i := 0 ; \n",
      "int x := 3 ; \n",
      "while ( i < n ) {\n",
      "    a := a + x ; \n",
      "    i := i + 1 ;\n",
      "} \n",
      "assert (a == 2 + 3 * 5) ; \n",
      "Array int A := A ; \n",
      "if (a - 0 < 18) {\n",
      "    A[0] := 1 ;\n",
      "} else {\n",
      "    skip ;\n",
      "} \n",
      "assert (A[0] == 1) ; \n",
      "bool b := True ; \n",
      "assert (b == True) ;\n"
     ]
    },
    {
     "data": {
      "text/plain": [
       "(assume (n == 5) ; \n",
       " assume (a0 == 2) ; \n",
       " int a := a0 ; \n",
       " int i := 0 ; \n",
       " int x := 3 ; \n",
       " while ( i < n ) {\n",
       "     a := a + x ; \n",
       "     i := i + 1 ;\n",
       " } \n",
       " assert (a == 2 + 3 * 5) ; \n",
       " Array int A := A ; \n",
       " if (a - 0 < 18) {\n",
       "     A[0] := 1 ;\n",
       " } else {\n",
       "     skip ;\n",
       " } \n",
       " assert (A[0] == 1) ; \n",
       " bool b := True ; \n",
       " assert (b == True) ;,\n",
       " {c2: 18, c1: 0, c0: 3, c3: True},\n",
       " True,\n",
       " True)"
      ]
     },
     "execution_count": 20,
     "metadata": {},
     "output_type": "execute_result"
    }
   ],
   "source": [
    "SimpleSketch(max_itr_num=20, num_to_unroll_while_loops=5, debug=False).synthesize(\n",
    "    # the default type of variables is 'int' if not  specified\n",
    "    program=r\"\"\"\n",
    "    assume ( n == 5);\n",
    "    assume ( a0 == 2);\n",
    "    a := a0;\n",
    "    i := 0 ;\n",
    "    x := ??;\n",
    "    while (i < n) { \n",
    "        a := a + x ; \n",
    "        i := i + 1 ;\n",
    "    }\n",
    "    assert ( a == 2 + 3*5);\n",
    "    Array int A;\n",
    "    if (a - ?? < ??){\n",
    "        A[0] := 1;\n",
    "    }\n",
    "    assert (A[0] == 1);\n",
    "    bool b := bool?;\n",
    "    assert (b == True);\n",
    "    \"\"\",\n",
    "    input_output_examples = [],\n",
    "    pre_condition =  \"And(n >=0, a0 >= 0, x>=0)\",\n",
    "    loop_inv = \"And( i <= n, a == x*i + a0)\",\n",
    "    post_condition =  \"And(a == a0 + n * x, i == n)\", # the default type  is 'int' if not specified\n",
    ")"
   ]
  },
  {
   "cell_type": "code",
   "execution_count": null,
   "metadata": {},
   "outputs": [],
   "source": []
  },
  {
   "cell_type": "code",
   "execution_count": null,
   "metadata": {},
   "outputs": [],
   "source": []
  },
  {
   "cell_type": "markdown",
   "metadata": {},
   "source": [
    "## example 2"
   ]
  },
  {
   "cell_type": "code",
   "execution_count": 13,
   "metadata": {},
   "outputs": [
    {
     "name": "stdout",
     "output_type": "stream",
     "text": [
      "\u001b[34m >>> The program to verify with the C values \u001b[0m\n",
      "\u001b[0m\u001b[32m\n",
      "The C values are not valid, so get a new X values from the model counterexample to get a new C values\u001b[0m\n",
      "\u001b[0m\u001b[34mThe new X values are: [(a0_in, 2), (a_in, 0), (x_in, 0), (n_in, 5), (i_in, 0)]\u001b[0m\n",
      "\u001b[34m >>> The formula we need to solve to get new C values \u001b[0m\n",
      "\u001b[34m >>> The program to verify with the C values \u001b[0m\n",
      "\u001b[0m\u001b[31mStop after 1 iterations, because we didn't find new X values\u001b[0m\n",
      "\u001b[0m\u001b[33mThe C values are valid, And the program is valued\u001b[0m\n",
      "\u001b[0m\u001b[33mThe values of the holes are: [(c0, 3)]\u001b[0m\n",
      "\u001b[33m\n",
      ">>> Verifying the program ...\u001b[0m\n",
      "\n",
      "Hoare triple is valid.\n",
      "\u001b[32m\n",
      ">>> The program is correct!\u001b[0m\n",
      "\n",
      "\u001b[32mThe synthesized program is correct.\u001b[0m\n",
      "\u001b[94mThe Holes values are:\n",
      "\u001b[0m{c0: 3}\n",
      "\u001b[94mThe final synthesized program:\n",
      "\u001b[0massume (n == 5) ; \n",
      "assume (a0 == 2) ; \n",
      "int a := a0 ; \n",
      "int i := 0 ; \n",
      "int x := 3 ; \n",
      "while ( i < n ) {\n",
      "    a := a + x ; \n",
      "    i := i + 1 ;\n",
      "} \n",
      "assert (a == 2 + 3 * 5) ;\n"
     ]
    },
    {
     "data": {
      "text/plain": [
       "(assume (n == 5) ; \n",
       " assume (a0 == 2) ; \n",
       " int a := a0 ; \n",
       " int i := 0 ; \n",
       " int x := 3 ; \n",
       " while ( i < n ) {\n",
       "     a := a + x ; \n",
       "     i := i + 1 ;\n",
       " } \n",
       " assert (a == 2 + 3 * 5) ;,\n",
       " {c0: 3},\n",
       " True,\n",
       " True)"
      ]
     },
     "execution_count": 13,
     "metadata": {},
     "output_type": "execute_result"
    }
   ],
   "source": [
    "SimpleSketch(max_itr_num=20, num_to_unroll_while_loops=5, debug=False).synthesize(\n",
    "    # the default type of variables is 'int' if not  specified\n",
    "    program=r\"\"\"\n",
    "    assume ( n == 5);\n",
    "    assume ( a0 == 2);\n",
    "    a := a0;\n",
    "    i := 0 ;\n",
    "    x := ??;\n",
    "    while (i < n) { \n",
    "        a := a + x ; \n",
    "        i := i + 1 ;\n",
    "    }\n",
    "    assert ( a == 2 + 3*5);\n",
    "    \"\"\",\n",
    "    input_output_examples = [],\n",
    "    pre_condition =  \"And(n >=0, a0 >= 0, x>=0)\",\n",
    "    loop_inv = \"And( i <= n, a == x*i + a0)\",\n",
    "    post_condition =  \"And(a == a0 + n * x, i == n)\", # the default type  is 'int' if not specified\n",
    ")"
   ]
  },
  {
   "cell_type": "code",
   "execution_count": null,
   "metadata": {},
   "outputs": [],
   "source": []
  }
 ],
 "metadata": {
  "kernelspec": {
   "display_name": ".venv",
   "language": "python",
   "name": "python3"
  },
  "language_info": {
   "codemirror_mode": {
    "name": "ipython",
    "version": 3
   },
   "file_extension": ".py",
   "mimetype": "text/x-python",
   "name": "python",
   "nbconvert_exporter": "python",
   "pygments_lexer": "ipython3",
   "version": "3.11.5"
  },
  "orig_nbformat": 4
 },
 "nbformat": 4,
 "nbformat_minor": 2
}
