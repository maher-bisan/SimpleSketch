{
 "cells": [
  {
   "cell_type": "code",
   "execution_count": null,
   "metadata": {},
   "outputs": [],
   "source": [
    "%pip install -U e ..[dev-notebook]"
   ]
  },
  {
   "cell_type": "code",
   "execution_count": null,
   "metadata": {},
   "outputs": [],
   "source": [
    "from simple_sketch import SimpleSketch"
   ]
  },
  {
   "cell_type": "markdown",
   "metadata": {},
   "source": [
    "## example 1"
   ]
  },
  {
   "cell_type": "code",
   "execution_count": null,
   "metadata": {},
   "outputs": [],
   "source": [
    "SimpleSketch(max_itr_num=20, num_to_unroll_while_loops=5, debug=False).synthesize(\n",
    "    # the default type of variables is 'int' if not  specified\n",
    "    program=r\"\"\"\n",
    "    assume ( n == 5);\n",
    "    assume ( a0 == 2);\n",
    "    a := a0;\n",
    "    i := 0 ;\n",
    "    x := ??;\n",
    "    while (i < n) { \n",
    "        a := a + x ; \n",
    "        i := i + 1 ;\n",
    "    }\n",
    "    assert ( a == 2 + 3*5);\n",
    "    Array int A;\n",
    "    if (a - ?? < ??){\n",
    "        A[0] := 1;\n",
    "    }\n",
    "    assert (A[0] == 1);\n",
    "    bool b := bool?;\n",
    "    assert (b == True);\n",
    "    \"\"\",\n",
    "    input_output_examples = [],\n",
    "    pre_condition =  \"And(n >=0, a0 >= 0, x>=0)\",\n",
    "    loop_inv = \"And( i <= n, a == x*i + a0)\",\n",
    "    post_condition =  \"And(i == n , a == a0 + n * x, b == True) --types={ b : bool }\", # the default type  is 'int' if not specified\n",
    ")"
   ]
  },
  {
   "cell_type": "code",
   "execution_count": null,
   "metadata": {},
   "outputs": [],
   "source": []
  },
  {
   "cell_type": "code",
   "execution_count": null,
   "metadata": {},
   "outputs": [],
   "source": []
  },
  {
   "cell_type": "markdown",
   "metadata": {},
   "source": [
    "## example 2"
   ]
  },
  {
   "cell_type": "code",
   "execution_count": null,
   "metadata": {},
   "outputs": [],
   "source": [
    "SimpleSketch(max_itr_num=20, num_to_unroll_while_loops=5, debug=False).synthesize(\n",
    "    # the default type of variables is 'int' if not  specified\n",
    "    program=r\"\"\"\n",
    "    assume ( n == 5);\n",
    "    assume ( a0 == 2);\n",
    "    a := a0;\n",
    "    i := 0 ;\n",
    "    x := ??;\n",
    "    while (i < n) { \n",
    "        a := a + x ; \n",
    "        i := i + 1 ;\n",
    "    }\n",
    "    assert ( a == 2 + 3*5);\n",
    "    \"\"\",\n",
    "    input_output_examples = [],\n",
    "    pre_condition =  \"And(n >=0, a0 >= 0, x>=0)\",\n",
    "    loop_inv = \"And( i <= n, a == x*i + a0)\",\n",
    "    post_condition =  \"And(a == a0 + n * x, i == n)\", # the default type  is 'int' if not specified\n",
    ")"
   ]
  },
  {
   "cell_type": "code",
   "execution_count": null,
   "metadata": {},
   "outputs": [],
   "source": []
  }
 ],
 "metadata": {
  "kernelspec": {
   "display_name": ".venv",
   "language": "python",
   "name": "python3"
  },
  "language_info": {
   "codemirror_mode": {
    "name": "ipython",
    "version": 3
   },
   "file_extension": ".py",
   "mimetype": "text/x-python",
   "name": "python",
   "nbconvert_exporter": "python",
   "pygments_lexer": "ipython3",
   "version": "3.11.5"
  },
  "orig_nbformat": 4
 },
 "nbformat": 4,
 "nbformat_minor": 2
}
